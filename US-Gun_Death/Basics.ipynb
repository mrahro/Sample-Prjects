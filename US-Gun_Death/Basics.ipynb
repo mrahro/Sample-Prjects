{
 "cells": [
  {
   "cell_type": "code",
   "execution_count": 1,
   "metadata": {
    "collapsed": false
   },
   "outputs": [
    {
     "name": "stdout",
     "output_type": "stream",
     "text": [
      "[['', 'year', 'month', 'intent', 'police', 'sex', 'age', 'race', 'hispanic', 'place', 'education'], ['1', '2012', '01', 'Suicide', '0', 'M', '34', 'Asian/Pacific Islander', '100', 'Home', '4'], ['2', '2012', '01', 'Suicide', '0', 'F', '21', 'White', '100', 'Street', '3'], ['3', '2012', '01', 'Suicide', '0', 'M', '60', 'White', '100', 'Other specified', '4'], ['4', '2012', '02', 'Suicide', '0', 'M', '64', 'White', '100', 'Home', '4']]\n"
     ]
    }
   ],
   "source": [
    "import csv\n",
    "a=open('guns.csv','r')\n",
    "dataraw=csv.reader(a)\n",
    "data=list(dataraw)\n",
    "print(data[:5])\n"
   ]
  },
  {
   "cell_type": "code",
   "execution_count": 2,
   "metadata": {
    "collapsed": false
   },
   "outputs": [
    {
     "name": "stdout",
     "output_type": "stream",
     "text": [
      "['', 'year', 'month', 'intent', 'police', 'sex', 'age', 'race', 'hispanic', 'place', 'education']\n",
      "[['1', '2012', '01', 'Suicide', '0', 'M', '34', 'Asian/Pacific Islander', '100', 'Home', '4'], ['2', '2012', '01', 'Suicide', '0', 'F', '21', 'White', '100', 'Street', '3'], ['3', '2012', '01', 'Suicide', '0', 'M', '60', 'White', '100', 'Other specified', '4'], ['4', '2012', '02', 'Suicide', '0', 'M', '64', 'White', '100', 'Home', '4'], ['5', '2012', '02', 'Suicide', '0', 'M', '31', 'White', '100', 'Other specified', '2']]\n"
     ]
    }
   ],
   "source": [
    "headers=data[0]\n",
    "data=data[1:]\n",
    "print(headers)\n",
    "print(data[:5])"
   ]
  },
  {
   "cell_type": "code",
   "execution_count": 3,
   "metadata": {
    "collapsed": false
   },
   "outputs": [
    {
     "name": "stdout",
     "output_type": "stream",
     "text": [
      "{'2014': 33599, '2013': 33636, '2012': 33563}\n"
     ]
    }
   ],
   "source": [
    "years=[items[1] for items in data]\n",
    "years_count={}\n",
    "for items in years:\n",
    "    if items in years_count:\n",
    "        years_count[items]+=1\n",
    "    else:\n",
    "        years_count[items]=1\n",
    "print(years_count)"
   ]
  },
  {
   "cell_type": "code",
   "execution_count": 4,
   "metadata": {
    "collapsed": false
   },
   "outputs": [
    {
     "name": "stdout",
     "output_type": "stream",
     "text": [
      "[datetime.datetime(2012, 1, 1, 0, 0), datetime.datetime(2012, 1, 1, 0, 0), datetime.datetime(2012, 1, 1, 0, 0), datetime.datetime(2012, 2, 1, 0, 0), datetime.datetime(2012, 2, 1, 0, 0)]\n",
      "{datetime.datetime(2012, 4, 1, 0, 0): 2795, datetime.datetime(2014, 1, 1, 0, 0): 2651, datetime.datetime(2012, 7, 1, 0, 0): 3026, datetime.datetime(2012, 11, 1, 0, 0): 2729, datetime.datetime(2012, 2, 1, 0, 0): 2357, datetime.datetime(2012, 10, 1, 0, 0): 2733, datetime.datetime(2012, 8, 1, 0, 0): 2954, datetime.datetime(2013, 5, 1, 0, 0): 2806, datetime.datetime(2014, 5, 1, 0, 0): 2864, datetime.datetime(2013, 11, 1, 0, 0): 2758, datetime.datetime(2013, 7, 1, 0, 0): 3079, datetime.datetime(2014, 10, 1, 0, 0): 2865, datetime.datetime(2012, 6, 1, 0, 0): 2826, datetime.datetime(2014, 8, 1, 0, 0): 2970, datetime.datetime(2014, 3, 1, 0, 0): 2684, datetime.datetime(2012, 12, 1, 0, 0): 2791, datetime.datetime(2013, 4, 1, 0, 0): 2798, datetime.datetime(2013, 8, 1, 0, 0): 2859, datetime.datetime(2012, 5, 1, 0, 0): 2999, datetime.datetime(2014, 11, 1, 0, 0): 2756, datetime.datetime(2014, 2, 1, 0, 0): 2361, datetime.datetime(2014, 12, 1, 0, 0): 2857, datetime.datetime(2013, 1, 1, 0, 0): 2864, datetime.datetime(2013, 10, 1, 0, 0): 2808, datetime.datetime(2013, 6, 1, 0, 0): 2920, datetime.datetime(2012, 9, 1, 0, 0): 2852, datetime.datetime(2012, 3, 1, 0, 0): 2743, datetime.datetime(2014, 9, 1, 0, 0): 2914, datetime.datetime(2014, 6, 1, 0, 0): 2931, datetime.datetime(2012, 1, 1, 0, 0): 2758, datetime.datetime(2014, 7, 1, 0, 0): 2884, datetime.datetime(2013, 9, 1, 0, 0): 2742, datetime.datetime(2014, 4, 1, 0, 0): 2862, datetime.datetime(2013, 3, 1, 0, 0): 2862, datetime.datetime(2013, 2, 1, 0, 0): 2375, datetime.datetime(2013, 12, 1, 0, 0): 2765}\n"
     ]
    }
   ],
   "source": [
    "import datetime\n",
    "dates=[datetime.datetime(year=int(item[1]), month=int(item[2]), day=1) for item in data]\n",
    "print(dates[:5])\n",
    "date_counts={}\n",
    "for items in dates:\n",
    "    if items in date_counts:\n",
    "        date_counts[items]+=1\n",
    "    else:\n",
    "        date_counts[items]=1\n",
    "print(date_counts)"
   ]
  },
  {
   "cell_type": "code",
   "execution_count": 5,
   "metadata": {
    "collapsed": false
   },
   "outputs": [
    {
     "name": "stdout",
     "output_type": "stream",
     "text": [
      "{'Black': 23296, 'White': 66237, 'Asian/Pacific Islander': 1326, 'Hispanic': 9022, 'Native American/Native Alaskan': 917}\n"
     ]
    }
   ],
   "source": [
    "def counts(column):\n",
    "    counts={}\n",
    "    for item in data:\n",
    "        if item[column] in counts:\n",
    "            counts[item[column]]+=1\n",
    "        else:\n",
    "            counts[item[column]]=1\n",
    "    return(counts)\n",
    "sex_counts=counts(5)\n",
    "race_counts=counts(7)\n",
    "print(race_counts)"
   ]
  },
  {
   "cell_type": "markdown",
   "metadata": {},
   "source": [
    "This is a good experience to get some isight on the relationship between the gun shooting and race,sex and education as well as the time of the year. However, the data is not compeletly clean and some error exist\n",
    "                  "
   ]
  },
  {
   "cell_type": "code",
   "execution_count": 6,
   "metadata": {
    "collapsed": false
   },
   "outputs": [
    {
     "name": "stdout",
     "output_type": "stream",
     "text": [
      "[['Id', 'Year', 'Id', 'Sex', 'Id', 'Hispanic Origin', 'Id', 'Id2', 'Geography', 'Total', 'Race Alone - White', 'Race Alone - Hispanic', 'Race Alone - Black or African American', 'Race Alone - American Indian and Alaska Native', 'Race Alone - Asian', 'Race Alone - Native Hawaiian and Other Pacific Islander', 'Two or More Races'], ['cen42010', 'April 1, 2010 Census', 'totsex', 'Both Sexes', 'tothisp', 'Total', '0100000US', '', 'United States', '308745538', '197318956', '44618105', '40250635', '3739506', '15159516', '674625', '6984195']]\n"
     ]
    }
   ],
   "source": [
    "a=open('census.csv','r')\n",
    "censusraw=csv.reader(a)\n",
    "census=list(censusraw)\n",
    "print(census)"
   ]
  },
  {
   "cell_type": "code",
   "execution_count": 19,
   "metadata": {
    "collapsed": false
   },
   "outputs": [
    {
     "name": "stdout",
     "output_type": "stream",
     "text": [
      "{'Black': 57.877347773519595, 'Hispanic': 20.220491210910907, 'Native American/Native Alaskan': 24.521955573811088, 'White': 33.56849303419181, 'Asian/Pacific Islander': 8.746980714890115e-06}\n"
     ]
    }
   ],
   "source": [
    "mapping={}\n",
    "for items, value in race_counts.items():\n",
    "    if items=='Black':\n",
    "        mapping[items]=census[1][12]\n",
    "    elif items=='White':\n",
    "        mapping[items]=census[1][10]\n",
    "    elif items=='Hispanic':\n",
    "        mapping[items]=census[1][11]\n",
    "    elif items=='Asian/Pacific Islander':\n",
    "        mapping[items]=census[1][14]+census[1][15]\n",
    "    elif items=='Native American/Native Alaskan':\n",
    "        mapping[items]=census[1][13]\n",
    "race_per_hundredk={}\n",
    "for item, value in race_counts.items():\n",
    "    race_per_hundredk[item]=int(value)*100000/int(mapping[item])\n",
    "print(race_per_hundredk)   \n"
   ]
  },
  {
   "cell_type": "code",
   "execution_count": 25,
   "metadata": {
    "collapsed": false
   },
   "outputs": [
    {
     "name": "stdout",
     "output_type": "stream",
     "text": [
      "{'Black': 48.47128498718095, 'Hispanic': 12.627161104219912, 'Native American/Native Alaskan': 8.717729026240365, 'White': 4.6356417981453335, 'Asian/Pacific Islander': 3.687452654316421e-06}\n"
     ]
    }
   ],
   "source": [
    "intents=[row[3] for row in data]\n",
    "races=[row[7] for row in data]\n",
    "homicide_race_counts={}\n",
    "for andice, vlue in enumerate(races):\n",
    "    if intents[andice]=='Homicide':\n",
    "        if races[andice] not in homicide_race_counts:\n",
    "            homicide_race_counts[races[andice]]=1\n",
    "        else:\n",
    "            homicide_race_counts[races[andice]]+=1\n",
    "for item, value in homicide_race_counts.items():\n",
    "    homicide_race_counts[item]=int(value)*100000/int(mapping[item])\n",
    "print(homicide_race_counts)  \n"
   ]
  },
  {
   "cell_type": "markdown",
   "metadata": {},
   "source": [
    "It seems that gun related homicides in the US extremely affect people in the Black and Hispanic communities."
   ]
  },
  {
   "cell_type": "code",
   "execution_count": null,
   "metadata": {
    "collapsed": true
   },
   "outputs": [],
   "source": []
  }
 ],
 "metadata": {
  "kernelspec": {
   "display_name": "Python 3",
   "language": "python",
   "name": "python3"
  },
  "language_info": {
   "codemirror_mode": {
    "name": "ipython",
    "version": 3
   },
   "file_extension": ".py",
   "mimetype": "text/x-python",
   "name": "python",
   "nbconvert_exporter": "python",
   "pygments_lexer": "ipython3",
   "version": "3.4.3"
  }
 },
 "nbformat": 4,
 "nbformat_minor": 0
}
